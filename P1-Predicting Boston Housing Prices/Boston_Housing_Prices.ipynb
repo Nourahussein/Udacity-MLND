{
 "cells": [
  {
   "cell_type": "code",
   "execution_count": 16,
   "metadata": {},
   "outputs": [
    {
     "name": "stdout",
     "output_type": "stream",
     "text": [
      "Boston housing dataset has 489 data points with 4 variables each.\n"
     ]
    }
   ],
   "source": [
    "# Import libraries necessary for this project\n",
    "import numpy as np\n",
    "import pandas as pd\n",
    "import matplotlib\n",
    "from sklearn.cross_validation import ShuffleSplit\n",
    "\n",
    "# Import supplementary visualizations code visuals.py\n",
    "import visuals as vs\n",
    "\n",
    "# Pretty display for notebooks\n",
    "%matplotlib inline\n",
    "\n",
    "# Load the Boston housing dataset\n",
    "data = pd.read_csv('housing.csv')\n",
    "prices = data['MEDV']\n",
    "features = data.drop('MEDV', axis = 1)\n",
    "#np.asarray(prices)\n",
    "# Success\n",
    "print (\"Boston housing dataset has {} data points with {} variables each.\".format(*data.shape))"
   ]
  },
  {
   "cell_type": "code",
   "execution_count": 2,
   "metadata": {},
   "outputs": [
    {
     "name": "stdout",
     "output_type": "stream",
     "text": [
      "Statistics for Boston housing dataset:\n",
      "\n",
      "Minimum price: $105,000.00\n",
      "Maximum price: $1,024,800.00\n",
      "Mean price: $454,342.94\n",
      "Median price $438,900.00\n",
      "Standard deviation of prices: $165,171.13\n"
     ]
    }
   ],
   "source": [
    "# Minimum price of the data\n",
    "minimum_price = np.min(prices)\n",
    "\n",
    "#  Maximum price of the data\n",
    "maximum_price = np.max(prices)\n",
    "\n",
    "#  Mean price of the data\n",
    "mean_price =  np.mean(prices)\n",
    "\n",
    "#  Median price of the data\n",
    "median_price = np.median (prices)\n",
    "\n",
    "# Standard deviation of prices of the data\n",
    "std_price = np.std(prices)\n",
    "\n",
    "# Show the calculated statistics\n",
    "print (\"Statistics for Boston housing dataset:\\n\")\n",
    "print (\"Minimum price: ${:,.2f}\".format(minimum_price))\n",
    "print (\"Maximum price: ${:,.2f}\".format(maximum_price))\n",
    "print (\"Mean price: ${:,.2f}\".format(mean_price))\n",
    "print (\"Median price ${:,.2f}\".format(median_price))\n",
    "print (\"Standard deviation of prices: ${:,.2f}\".format(std_price))"
   ]
  },
  {
   "cell_type": "markdown",
   "metadata": {},
   "source": [
    "\n",
    "## Question 1 - Feature Observation\n",
    "As a reminder, we are using three features from the Boston housing dataset: 'RM', 'LSTAT', and 'PTRATIO'. For each data point (neighborhood):\n",
    "\n",
    "'RM' is the average number of rooms among homes in the neighborhood.\n",
    "\n",
    "'LSTAT' is the percentage of homeowners in the neighborhood considered \"lower class\" (working poor).\n",
    "\n",
    "'PTRATIO' is the ratio of students to teachers in primary and secondary schools in the neighborhood.\n",
    "\n",
    "Using your intuition, for each of the three features above, do you think that an increase in the value of that feature would lead to an increase in the value of 'MEDV' or a decrease in the value of 'MEDV'? Justify your answer for each.\n",
    "\n",
    "Would you expect a home that has an 'RM' value(number of rooms) of 6 be worth more or less than a home that has an 'RM' value of 7?"
   ]
  },
  {
   "cell_type": "code",
   "execution_count": 3,
   "metadata": {},
   "outputs": [
    {
     "name": "stdout",
     "output_type": "stream",
     "text": [
      "358830\n",
      "505704\n"
     ]
    }
   ],
   "source": [
    "#slicing prices acrroding to number of rooms\n",
    "# get the mean price of house if number of room < 6\n",
    "print(round(np.mean(prices [features['RM'] < 6])))\n",
    "# get the mean price of house if number of room > 6\n",
    "print(round(np.mean(prices [features['RM'] > 6])))\n",
    "# for values of RM increasing the prices increse also."
   ]
  },
  {
   "cell_type": "code",
   "execution_count": 4,
   "metadata": {},
   "outputs": [
    {
     "name": "stdout",
     "output_type": "stream",
     "text": [
      "357420\n",
      "293417\n",
      "402536\n",
      "577655\n",
      "910219\n"
     ]
    }
   ],
   "source": [
    "# Round RM values to make more sense \n",
    "# just for check\n",
    "RoundedRM=round(features['RM'])\n",
    "print(round(np.mean(prices [RoundedRM == 4])))\n",
    "print(round(np.mean(prices [RoundedRM == 5])))\n",
    "print(round(np.mean(prices [RoundedRM == 6])))\n",
    "print(round(np.mean(prices [RoundedRM == 7])))\n",
    "print(round(np.mean(prices [RoundedRM == 8])))"
   ]
  },
  {
   "cell_type": "markdown",
   "metadata": {},
   "source": [
    "Would you expect a neighborhood that has an 'LSTAT' value(percent of lower class workers) of 15 have home prices be worth more or less than a neighborhood that has an 'LSTAT' value of 20?"
   ]
  },
  {
   "cell_type": "code",
   "execution_count": 5,
   "metadata": {},
   "outputs": [
    {
     "name": "stdout",
     "output_type": "stream",
     "text": [
      "527325\n",
      "307028\n",
      "259918\n"
     ]
    }
   ],
   "source": [
    "#slicing prices acrroding to Neighborhood  poverty level\n",
    "print(round(np.mean(prices [features['LSTAT'] < 15])))\n",
    "print(round(np.mean(prices [features['LSTAT'] > 15])))\n",
    "print(round(np.mean(prices [features['LSTAT'] > 20])))\n",
    "# for LSTAT values increasing the prices decrease"
   ]
  },
  {
   "cell_type": "markdown",
   "metadata": {},
   "source": [
    "Would you expect a neighborhood that has an 'PTRATIO' value(ratio of students to teachers) of 10 have home prices be worth more or less than a neighborhood that has an 'PTRATIO' value of 15?"
   ]
  },
  {
   "cell_type": "code",
   "execution_count": 6,
   "metadata": {},
   "outputs": [
    {
     "name": "stdout",
     "output_type": "stream",
     "text": [
      "564471\n",
      "442079\n"
     ]
    }
   ],
   "source": [
    "# slicing prices acrroding toStudent-teacher ratio of nearby schools\n",
    "print(round(np.mean(prices [features['PTRATIO'] < 15])))\n",
    "print(round(np.mean(prices [features['PTRATIO'] > 15])))\n",
    "# for PTRATIO values increasing the prices decrease"
   ]
  },
  {
   "cell_type": "markdown",
   "metadata": {},
   "source": [
    "## Question 1 ansewer \n",
    "\n",
    " **Feature Observation**\n",
    "* an increase in the value of RM feature would lead to an increase in the value of 'MEDV' .\n",
    "* an increase in the value of LSTAT  feature would lead to an decrease in the value of 'MEDV' .\n",
    "* an increase in the value of PTRATIO  feature would lead to an decrease in the value of 'MEDV' ."
   ]
  },
  {
   "cell_type": "code",
   "execution_count": 7,
   "metadata": {
    "collapsed": true
   },
   "outputs": [],
   "source": [
    "# Import 'r2_score' coefficient of determination R^2\n",
    "from sklearn.metrics import r2_score\n",
    "\n",
    "def performance_metric(y_true, y_predict):\n",
    "    \"\"\" Calculates and returns the performance score between \n",
    "        true and predicted values based on the metric chosen. \"\"\"\n",
    "    \n",
    "# Calculate the performance score between 'y_true' and 'y_predict'\n",
    "    score =  r2_score(y_true, y_predict)\n",
    "# Return the score\n",
    "    return score"
   ]
  },
  {
   "cell_type": "code",
   "execution_count": 8,
   "metadata": {},
   "outputs": [
    {
     "name": "stdout",
     "output_type": "stream",
     "text": [
      "Model has a coefficient of determination, R^2, of 0.923.\n"
     ]
    }
   ],
   "source": [
    "# Calculate the performance of this model\n",
    "score = performance_metric([3, -0.5, 2, 7, 4.2], [2.5, 0.0, 2.1, 7.8, 5.3])\n",
    "print (\"Model has a coefficient of determination, R^2, of {:.3f}.\".format(score))"
   ]
  },
  {
   "cell_type": "markdown",
   "metadata": {},
   "source": [
    "## Question 2 answer \n",
    " this model to have successfully captured the variation of the target variable\n",
    " \n",
    "*** cause coefficient of determination (R^2) = .923 it means that 92.3% percent of the variance in Y_predict is predictable from \n",
    "the independent variables it close to 100% so it's a good prediction ratio "
   ]
  },
  {
   "cell_type": "markdown",
   "metadata": {},
   "source": [
    "\n",
    "## Implementation: Shuffle and Split Data"
   ]
  },
  {
   "cell_type": "code",
   "execution_count": 9,
   "metadata": {},
   "outputs": [
    {
     "name": "stdout",
     "output_type": "stream",
     "text": [
      "Training and testing split was successful.\n"
     ]
    }
   ],
   "source": [
    "# Import 'train_test_split'\n",
    "from sklearn.model_selection import train_test_split\n",
    "\n",
    "# Shuffle and split the data into training and testing subsets\n",
    "#Split the data into 80% training and 20% testing.\n",
    "#Assign the train and testing splits to X_train, X_test, y_train, and y_test.\n",
    "# random_state=0 to ensure that  results are consistent\n",
    "X_train, X_test, y_train, y_test = train_test_split(features, prices,test_size=.20, random_state=0)\n",
    "\n",
    "# Success\n",
    "print (\"Training and testing split was successful.\")"
   ]
  },
  {
   "cell_type": "markdown",
   "metadata": {},
   "source": [
    "## Question 3 answer \n",
    " the benefit to splitting a dataset into some ratio of training and testing subsets for a learning algorithm :\n",
    "* give estimates of performace on independent dataset.\n",
    "* serve a check for an overfitting. \n",
    "* We split the data to evaluate our model.\n",
    "* to know how well my model doing and compare between algorthims.\n",
    "* to choose the best algorthim which achive the best accuracy based on testing and training sets.\n"
   ]
  },
  {
   "cell_type": "markdown",
   "metadata": {},
   "source": [
    "## Analyzing Model Performance\n",
    "In this third section of the project, you'll take a look at several models' learning and testing performances on various subsets of training data. Additionally, you'll investigate one particular algorithm with an increasing 'max_depth' parameter on the full training set to observe how model complexity affects performance. Graphing your model's performance based on varying criteria can be beneficial in the analysis process, such as visualizing behavior that may not have been apparent from the results alone.\n",
    "\n",
    "Learning Curves\n",
    "The following code cell produces four graphs for a decision tree model with different maximum depths. Each graph visualizes the learning curves of the model for both training and testing as the size of the training set is increased. Note that the shaded region of a learning curve denotes the uncertainty of that curve (measured as the standard deviation). The model is scored on both the training and testing sets using R2, the coefficient of determination.\n",
    "\n",
    "Run the code cell below and use these graphs to answer the following question."
   ]
  },
  {
   "cell_type": "code",
   "execution_count": 10,
   "metadata": {},
   "outputs": [
    {
     "data": {
      "image/png": "[encoded data removed]",
      "text/plain": [
       "<matplotlib.figure.Figure at 0x213be5cdc88>"
      ]
     },
     "metadata": {},
     "output_type": "display_data"
    }
   ],
   "source": [
    "# Produce learning curves for varying training set sizes and maximum depths\n",
    "vs.ModelLearning(features, prices)"
   ]
  },
  {
   "cell_type": "markdown",
   "metadata": {
    "collapsed": true
   },
   "source": [
    "## Question 4 - Learning the Data\n",
    "Choose one of the graphs above and state the maximum depth for the model.\n",
    "What happens to the score of the training curve as more training points are added? What about the testing curve?\n",
    "Would having more training points benefit the model?\n",
    "\n",
    "\n",
    "## Answer:\n",
    "* in 1st graph (with max depth =1 ) we notice the testing and training scores are  very small --> this is **underfitting** the algothim is very simple so slove the problem\n",
    "* in 2nd graph (with max depth=3 ) we notice the testing and training scores increases more than the last graph (with max depth = 1) but still small \n",
    "* in 3rd graph (with max depth = 6) here we notice the testing and traning scores is perfect I mean it the best in those graphs so it make sence to use this algorthim.\n",
    "* in the 4th graph here we notice the testing scores is the best in the graphs but here there what we called **overfitting** cause we make the algorthim more complex which is not true\n",
    " + I think more training points would not benefit the model cause the curve of testing score tend to decrease when the training point increase "
   ]
  },
  {
   "cell_type": "code",
   "execution_count": 11,
   "metadata": {},
   "outputs": [
    {
     "data": {
      "image/png": "[encoded data removed]",
      "text/plain": [
       "<matplotlib.figure.Figure at 0x213c21ffba8>"
      ]
     },
     "metadata": {},
     "output_type": "display_data"
    }
   ],
   "source": [
    "vs.ModelComplexity(X_train, y_train)"
   ]
  },
  {
   "cell_type": "markdown",
   "metadata": {},
   "source": [
    "## Question 5 - Bias-Variance Tradeoff \n"
   ]
  },
  {
   "cell_type": "markdown",
   "metadata": {},
   "source": [
    "When the model is trained with a maximum depth of 1, does the model suffer from high bias or from high variance?\n",
    "\n",
    "How about when the model is trained with a maximum depth of 10? What visual cues in the graph justify your conclusions?\n",
    "\n"
   ]
  },
  {
   "cell_type": "markdown",
   "metadata": {},
   "source": [
    "# Answer :\n",
    "*** when the model is trained with a maximum depth of 1, the model will suffer from high bias \n",
    "\n",
    "it means: the model misses the relevant relations between features and target outputs (underfitting) \n",
    "\n",
    "* when the model is trained with maximum depth of 10 it causes random noise in the training data, rather than the intended outputs (overfitting) or high variance.\n",
    " "
   ]
  },
  {
   "cell_type": "markdown",
   "metadata": {},
   "source": [
    "\n",
    "# Question 6 - Best-Guess Optimal Model\n",
    "Which maximum depth do you think results in a model that best generalizes to unseen data?\n",
    "\n",
    "What intuition lead you to this answer?\n"
   ]
  },
  {
   "cell_type": "markdown",
   "metadata": {},
   "source": [
    "## Answer :\n",
    "\n",
    "-  Model with 5 maximum depth is the best generalizes to unseen data\n",
    "\n",
    "**from the plot above:**\n",
    "\n",
    " *** the model with 4 maximum depth have the most validation score (.8) \n",
    " \n",
    "- this maximum depth hasn't high bais or high various which is good for testing set and validation score."
   ]
  },
  {
   "cell_type": "markdown",
   "metadata": {},
   "source": [
    "## Evaluating Model Performance\n",
    "In this final section of the project, you will construct a model and make a prediction on the client's feature set using an optimized model from fit_model.\n",
    "\n",
    "# Question 7 - Grid Search\n",
    "\n",
    "What is the grid search technique?\n",
    "\n",
    "How it can be applied to optimize a learning algorithm?\n"
   ]
  },
  {
   "cell_type": "markdown",
   "metadata": {},
   "source": [
    "*** machine learning models have lots of hyperparameters to adjust. Often the best way to find the best settings is just through trial and error, but it can take a lot of work to try all the possible combinations. \n",
    " \n",
    " A solution for this problem is to use a grid search.\n",
    " \n",
    "* A grid search is where you list out a range of settings you want to try for each parameter, and you literally try them all. You train and test the model for every combination of parameters. The combination of parameters that generates the best predictions are the set of parameters you should use for your real model. \n",
    "* In this project, the estimator is DecisionTreeRegressor and specific parameter is max_depth. Grid search will put all the hyper parameters('max_depth':range(1,11)) onto a grid, and search for which parameters get a better performance on our score function. Finally, it would return a combination of parameters that delivers the best performance\n"
   ]
  },
  {
   "cell_type": "markdown",
   "metadata": {},
   "source": [
    "## Question 8 - Cross-Validation\n",
    "What is the k-fold cross-validation training technique?\n",
    "\n",
    "What benefit does this technique provide for grid search when optimizing a model?\n",
    "\n"
   ]
  },
  {
   "cell_type": "markdown",
   "metadata": {},
   "source": [
    "# Answer:\n",
    "In K-fold cross validation, we split the training data into k parts, or folds.\n",
    "\n",
    "We build the model based on the data from k - 1 folds, and test the model on the remaining fold (the test set).\n",
    "\n",
    "We can build variations of the model using different sets of parameters. Then, we repeat this procedure k - 1 times, excluding a different fold from model building each time.\n",
    "\n",
    "After we finish, to choose the value for each parameter, we can take the average of the values for this parameter that did best on each of the k validation sets.\n",
    "\n",
    "Though the grid search can return the features that deliver the best performance, but according to the reasons above, cross-validation makes grid search work better on unseen data.\n"
   ]
  },
  {
   "cell_type": "markdown",
   "metadata": {},
   "source": [
    "## Implementation: Fitting a Model\n",
    "\n",
    "1- Use DecisionTreeRegressor from sklearn.tree to create a decision tree regressor object.\n",
    "\n",
    "2- Assign this object to the 'regressor' variable.\n",
    "\n",
    "3- Create a dictionary for 'max_depth' with the values from 1 to 10, and assign this to the 'params' variable.\n",
    "\n",
    "4- Use make_scorer from sklearn.metrics to create a scoring function object.\n",
    "\n",
    "5- Pass the performance_metric function as a parameter to the object.\n",
    "\n",
    "6- Assign this scoring function to the 'scoring_fnc' variable.\n",
    "\n",
    "7- Use GridSearchCV from sklearn.grid_search to create a grid search object.\n",
    "\n",
    "8- Pass the variables 'regressor', 'params', 'scoring_fnc', and 'cv_sets' as parameters to the object.\n",
    "\n",
    "9- Assign the GridSearchCV object to the 'grid' variable."
   ]
  },
  {
   "cell_type": "code",
   "execution_count": 12,
   "metadata": {
    "collapsed": true
   },
   "outputs": [],
   "source": [
    "#  Import 'make_scorer', 'DecisionTreeRegressor', and 'GridSearchCV'\n",
    "from sklearn.metrics import make_scorer \n",
    "#self note:  sikit learn version 0.19 GridSearchCV import different than 0.17 and 0.18\n",
    "from sklearn.model_selection import GridSearchCV\n",
    "from sklearn.tree import DecisionTreeRegressor\n",
    "def fit_model(X, y):\n",
    "    \"\"\" Performs grid search over the 'max_depth' parameter for a \n",
    "        decision tree regressor trained on the input data [X, y]. \"\"\"\n",
    "    \n",
    "    # Create cross-validation sets from the training data\n",
    "    # sklearn version 0.18: ShuffleSplit(n_splits=10, test_size=0.1, train_size=None, random_state=None)\n",
    "    # sklearn versiin 0.17: ShuffleSplit(n, n_iter=10, test_size=0.1, train_size=None, random_state=None)\n",
    "    cv_sets = ShuffleSplit(X.shape[0], n_iter = 10, test_size = 0.20, random_state = 0)\n",
    "\n",
    "    # TODO: Create a decision tree regressor object\n",
    "    regressor =DecisionTreeRegressor()\n",
    "    # TODO: Create a dictionary for the parameter 'max_depth' with a range from 1 to 10\n",
    "    params = {'max_depth':  (1, 2, 3, 4, 5 ,6 ,9 ,8 ,9, 10)}\n",
    "\n",
    "    #  Transform 'performance_metric' into a scoring function using 'make_scorer' \n",
    "    scoring_fnc = make_scorer(performance_metric)\n",
    "\n",
    "    # Create the grid search cv object --> GridSearchCV()\n",
    "    # Make sure to include the right parameters in the object:\n",
    "    # (estimator, param_grid, scoring, cv) which have values 'regressor', 'params', 'scoring_fnc', and 'cv_sets' respectively.\n",
    "    grid = GridSearchCV (estimator=regressor, param_grid=params, scoring =scoring_fnc, cv=cv_sets)\n",
    "    # Fit the grid search object to the data to compute the optimal model\n",
    "    grid = grid.fit(X, y)\n",
    "\n",
    "    # Return the optimal model after fitting the data\n",
    "    return grid.best_estimator_"
   ]
  },
  {
   "cell_type": "markdown",
   "metadata": {},
   "source": [
    "## Question 9 - Optimal Model\n",
    "+ What maximum depth does the optimal model have? How does this result compare to your guess in Question 6?\n",
    "\n"
   ]
  },
  {
   "cell_type": "code",
   "execution_count": 13,
   "metadata": {},
   "outputs": [
    {
     "name": "stdout",
     "output_type": "stream",
     "text": [
      "Parameter 'max_depth' is 4 for the optimal model.\n"
     ]
    }
   ],
   "source": [
    "# Fit the training data to the model using grid search\n",
    "reg = fit_model(X_train, y_train)\n",
    "\n",
    "# Produce the value for 'max_depth'\n",
    "print (\"Parameter 'max_depth' is {} for the optimal model.\".format(reg.get_params()['max_depth']))"
   ]
  },
  {
   "cell_type": "markdown",
   "metadata": {},
   "source": [
    "# Question 9 answer :\n",
    "the optimal model have maximum depth 4 . \n",
    "it's like what I'm guessed in question 6 "
   ]
  },
  {
   "cell_type": "markdown",
   "metadata": {},
   "source": [
    "### Question 10 - Predicting Selling Prices\n",
    "Imagine that you were a real estate agent in the Boston area looking to use this model to help price homes owned by your clients that they wish to sell. You have collected the following information from three of your clients:\n",
    "\n",
    "| Feature | Client 1 | Client 2 | Client 3 |\n",
    "| :---: | :---: | :---: | :---: |\n",
    "| Total number of rooms in home | 5 rooms | 4 rooms | 8 rooms |\n",
    "| Neighborhood poverty level (as %) | 17% | 32% | 3% |\n",
    "| Student-teacher ratio of nearby schools | 15-to-1 | 22-to-1 | 12-to-1 |\n",
    "\n",
    "* What price would you recommend each client sell his/her home at? \n",
    "* Do these prices seem reasonable given the values for the respective features? "
   ]
  },
  {
   "cell_type": "code",
   "execution_count": 14,
   "metadata": {},
   "outputs": [
    {
     "name": "stdout",
     "output_type": "stream",
     "text": [
      "Predicted selling price for Client 1's home: $391,183.33\n",
      "Predicted selling price for Client 2's home: $189,123.53\n",
      "Predicted selling price for Client 3's home: $942,666.67\n"
     ]
    }
   ],
   "source": [
    "# Produce a matrix for client data\n",
    "client_data = [[5, 17, 15], # Client 1\n",
    "               [4, 32, 22], # Client 2\n",
    "               [8, 3, 12]]  # Client 3\n",
    "\n",
    "# Show predictions\n",
    "for i, price in enumerate(reg.predict(client_data)):\n",
    "    print (\"Predicted selling price for Client {}'s home: ${:,.2f}\".format(i+1, price))"
   ]
  },
  {
   "cell_type": "markdown",
   "metadata": {},
   "source": [
    "# Question 10 answer :\n",
    "\n",
    "**using statistics in data exploration section:**\n",
    "\n",
    "* the biggest home you have the best price for house \n",
    "\n",
    " + for values Student-teacher ratio of nearby schools >15  the prices is low \n",
    " + and Student-teacher ratio of nearby schools < 15 the prices is high\n",
    " + the least Neighborhood poverty level the higher prices \n",
    " \n",
    " \n",
    "* so client 3 has has the biggest house, in the best public school neighborhood with the lowest poverty level; (the best price)\n",
    " \n",
    " \n",
    "* while client 2 has the smallest house, in a neighborhood with a relatively high poverty rate and not the best public schools.\n",
    " (the least price)\n",
    " "
   ]
  },
  {
   "cell_type": "markdown",
   "metadata": {},
   "source": [
    "## Sensitivity\n",
    "An optimal model is not necessarily a robust model.\n",
    "\n",
    "* robust system : system achives it's goal without looking at any disturbance.\n",
    "\n",
    "Sometimes, a model is either too complex or too simple to sufficiently generalize to new data. Sometimes, a model could use a learning algorithm that is not appropriate for the structure of the data given. Other times, the data itself could be too noisy or contain too few samples to allow a model to adequately capture the target variable — i.e., the model is underfitted."
   ]
  },
  {
   "cell_type": "code",
   "execution_count": 15,
   "metadata": {},
   "outputs": [
    {
     "name": "stdout",
     "output_type": "stream",
     "text": [
      "Trial 1: $391,183.33\n",
      "Trial 2: $419,700.00\n",
      "Trial 3: $415,800.00\n",
      "Trial 4: $420,622.22\n",
      "Trial 5: $418,377.27\n",
      "Trial 6: $411,931.58\n",
      "Trial 7: $399,663.16\n",
      "Trial 8: $407,232.00\n",
      "Trial 9: $351,577.61\n",
      "Trial 10: $413,700.00\n",
      "\n",
      "Range in prices: $69,044.61\n"
     ]
    }
   ],
   "source": [
    "vs.PredictTrials(features, prices, fit_model, client_data)"
   ]
  },
  {
   "cell_type": "markdown",
   "metadata": {},
   "source": [
    "## Question 11 - Applicability\n",
    "\n",
    "In a few sentences, discuss whether the constructed model should or should not be used in a real-world setting.\n",
    "\n",
    "\n",
    "1- How relevant today is data that was collected from 1978? How important is inflation?\n",
    "\n",
    "2- Are the features present in the data sufficient to describe a home?\n",
    "\n",
    "3- Do you think factors like quality of apppliances in the home, square feet of the plot area, presence of pool or not etc should factor in?\n",
    "\n",
    "4- Is the model robust enough to make consistent predictions?\n",
    "\n",
    "5- Would data collected in an urban city like Boston be applicable in a rural city?\n",
    "\n",
    "6- Is it fair to judge the price of an individual home based on the characteristics of the entire neighborhood?"
   ]
  },
  {
   "cell_type": "markdown",
   "metadata": {},
   "source": [
    "*   **data from 1978** is very different than now, cause people taste changes over time like people now like places have a good 4G connection in the past this factor was not important or not found at all.\n",
    "\n",
    "*  every factor can make difference. but we should consider that correlation doesn't prove causation so we can't say that the houses with pool have a high price. there are another factors to be considered however the more data we have -training data- the more we can predict prices correctly as possible.\n",
    "\n",
    "*  so factors like **square feet of the plot area**, **presence of pool** and **quality of apppliances in the home** will be a good factors to be considered but not enough to predict house price.\n",
    "\n",
    "* for sure data from an **urban city** not applicable in a **rural city**. cause like I said there are other factors to be considered like if there a beach in this city or not and people have differnet tastes , like we know the houses in big cities like NewYork are more expensive cause it near to the services like big restaurants, cinemas and big companies. \n",
    "\n",
    "* No, we can't make consistent prdictions from this model it's only appiled to boston houses.\n",
    "\n",
    "*  we should judge the price of the an individual home based on both the characteristics of the house itself and the entire neighborhood, not only the neighborhood.\n",
    " + **the neighborhood poverty level** matters with some people other not.\n"
   ]
  }
 ],
 "metadata": {
  "kernelspec": {
   "display_name": "Python 3",
   "language": "python",
   "name": "python3"
  },
  "language_info": {
   "codemirror_mode": {
    "name": "ipython",
    "version": 3
   },
   "file_extension": ".py",
   "mimetype": "text/x-python",
   "name": "python",
   "nbconvert_exporter": "python",
   "pygments_lexer": "ipython3",
   "version": "3.6.3"
  }
 },
 "nbformat": 4,
 "nbformat_minor": 2
}
