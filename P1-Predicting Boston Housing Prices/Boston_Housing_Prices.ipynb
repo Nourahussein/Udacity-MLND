{
 "cells": [
  {
   "cell_type": "code",
   "execution_count": 6,
   "metadata": {},
   "outputs": [
    {
     "name": "stdout",
     "output_type": "stream",
     "text": [
      "Boston housing dataset has 489 data points with 4 variables each.\n"
     ]
    }
   ],
   "source": [
    "# Import libraries necessary for this project\n",
    "import numpy as np\n",
    "import pandas as pd\n",
    "from sklearn.cross_validation import ShuffleSplit\n",
    "\n",
    "# Import supplementary visualizations code visuals.py\n",
    "import visuals as vs\n",
    "\n",
    "# Pretty display for notebooks\n",
    "%matplotlib inline\n",
    "\n",
    "# Load the Boston housing dataset\n",
    "data = pd.read_csv('housing.csv')\n",
    "prices = data['MEDV']\n",
    "features = data.drop('MEDV', axis = 1)\n",
    "    \n",
    "# Success\n",
    "print (\"Boston housing dataset has {} data points with {} variables each.\".format(*data.shape))"
   ]
  },
  {
   "cell_type": "code",
   "execution_count": null,
   "metadata": {
    "collapsed": true
   },
   "outputs": [],
   "source": [
    "# TODO: Minimum price of the data\n",
    "minimum_price = \n",
    "\n",
    "# TODO: Maximum price of the data\n",
    "#maximum_price = None\n",
    "\n",
    "# TODO: Mean price of the data\n",
    "#mean_price = None\n",
    "\n",
    "# TODO: Median price of the data\n",
    "#median_price = None\n",
    "\n",
    "# TODO: Standard deviation of prices of the data\n",
    "#std_price = None\n",
    "\n",
    "# Show the calculated statistics\n",
    "print (\"Statistics for Boston housing dataset:\\n\")\n",
    "print (\"Minimum price: ${:,.2f}\".format(minimum_price))\n",
    "#print (\"Maximum price: ${:,.2f}\".format(maximum_price))\n",
    "#print (\"Mean price: ${:,.2f}\".format(mean_price))\n",
    "#print (\"Median price ${:,.2f}\".format(median_price))\n",
    "#print (\"Standard deviation of prices: ${:,.2f}\".format(std_price))"
   ]
  }
 ],
 "metadata": {
  "kernelspec": {
   "display_name": "Python 3",
   "language": "python",
   "name": "python3"
  },
  "language_info": {
   "codemirror_mode": {
    "name": "ipython",
    "version": 3
   },
   "file_extension": ".py",
   "mimetype": "text/x-python",
   "name": "python",
   "nbconvert_exporter": "python",
   "pygments_lexer": "ipython3",
   "version": "3.6.3"
  }
 },
 "nbformat": 4,
 "nbformat_minor": 2
}
